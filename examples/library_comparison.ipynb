{
 "cells": [
  {
   "cell_type": "code",
   "execution_count": 29,
   "metadata": {},
   "outputs": [],
   "source": [
    "import numpy as np\n",
    "import matplotlib.pyplot as plt\n",
    "import librosa\n",
    "import IPython.display as ipd\n",
    "\n",
    "import python_stretch as pystretch\n",
    "import pedalboard"
   ]
  },
  {
   "cell_type": "code",
   "execution_count": 30,
   "metadata": {},
   "outputs": [],
   "source": [
    "# Utility functions\n",
    "def plotWaveform(y, sr, title):\n",
    "    plt.figure(figsize=(12, 4))\n",
    "    librosa.display.waveshow(y, sr=sr)\n",
    "    plt.title(title)\n",
    "    plt.show()"
   ]
  },
  {
   "cell_type": "markdown",
   "metadata": {},
   "source": [
    "# Load example wth librosa"
   ]
  },
  {
   "cell_type": "code",
   "execution_count": 31,
   "metadata": {},
   "outputs": [],
   "source": [
    "# Load audio file\n",
    "y, sr = librosa.load(\"les_bridge_fing01__00000.wav\", sr=None, mono=False)"
   ]
  },
  {
   "cell_type": "code",
   "execution_count": null,
   "metadata": {},
   "outputs": [],
   "source": [
    "print(f\"original y.shape: {y.shape}\")\n",
    "if len(y.shape) != 2:\n",
    "    y = y[np.newaxis, :]\n",
    "    print(f\"new y.shape: {y.shape}\")\n",
    "print(f\"y.dtype: {y.dtype}\")\n",
    "print(f\"sr: {sr}\")"
   ]
  },
  {
   "cell_type": "code",
   "execution_count": null,
   "metadata": {},
   "outputs": [],
   "source": [
    "ipd.display(ipd.Audio(y, rate=sr))"
   ]
  },
  {
   "cell_type": "code",
   "execution_count": null,
   "metadata": {},
   "outputs": [],
   "source": [
    "plotWaveform(y, sr, 'Original waveform')"
   ]
  },
  {
   "cell_type": "markdown",
   "metadata": {},
   "source": [
    "# ===== Pitch shifting ====="
   ]
  },
  {
   "cell_type": "code",
   "execution_count": 35,
   "metadata": {},
   "outputs": [],
   "source": [
    "# Pitch shift configuration\n",
    "shift = 12  # semitones"
   ]
  },
  {
   "cell_type": "code",
   "execution_count": 36,
   "metadata": {},
   "outputs": [],
   "source": [
    "# Create stretch object\n",
    "stretch = pystretch.Signalsmith.Stretch()\n",
    "# Configure \n",
    "stretch.preset(1, sr)\n",
    "stretch.setTransposeSemitones(shift)\n",
    "\n",
    "# Set buffer size\n",
    "buffer_size = stretch.blockSamples()"
   ]
  },
  {
   "cell_type": "code",
   "execution_count": 37,
   "metadata": {},
   "outputs": [],
   "source": [
    "# Create pedalboard\n",
    "board = pedalboard.PitchShift(shift)"
   ]
  },
  {
   "cell_type": "code",
   "execution_count": 38,
   "metadata": {},
   "outputs": [],
   "source": [
    "# Compute pitch shift\n",
    "y_stretch = stretch.process(y)\n",
    "y_librosa = librosa.effects.pitch_shift(y, sr=sr, n_steps=shift)\n",
    "y_pedalboard = board(y,sr, buffer_size=buffer_size)"
   ]
  },
  {
   "cell_type": "markdown",
   "metadata": {},
   "source": [
    "## Results: pitch shift"
   ]
  },
  {
   "cell_type": "code",
   "execution_count": null,
   "metadata": {},
   "outputs": [],
   "source": [
    "print(\"pystretch\",y_stretch.shape)\n",
    "plotWaveform(y_stretch[0], sr, 'python-stretch')\n",
    "print(\"librosa\",y_librosa.shape)\n",
    "plotWaveform(y_librosa[0], sr, 'librosa')\n",
    "print(\"pedalboard\",y_pedalboard.shape)\n",
    "plotWaveform(y_pedalboard[0], sr, 'pedalboard')"
   ]
  },
  {
   "cell_type": "code",
   "execution_count": null,
   "metadata": {},
   "outputs": [],
   "source": [
    "# pystretch\n",
    "ipd.Audio(y_stretch[0], rate=sr)"
   ]
  },
  {
   "cell_type": "code",
   "execution_count": null,
   "metadata": {},
   "outputs": [],
   "source": [
    "# librosa\n",
    "ipd.Audio(y_librosa[0], rate=sr)"
   ]
  },
  {
   "cell_type": "code",
   "execution_count": null,
   "metadata": {},
   "outputs": [],
   "source": [
    "# pedalboard\n",
    "ipd.Audio(y_pedalboard[0], rate=sr)"
   ]
  },
  {
   "cell_type": "markdown",
   "metadata": {},
   "source": [
    "## Pitch shifting: processing time"
   ]
  },
  {
   "cell_type": "code",
   "execution_count": null,
   "metadata": {},
   "outputs": [],
   "source": [
    "%%timeit\n",
    "stretch.process(y)"
   ]
  },
  {
   "cell_type": "code",
   "execution_count": null,
   "metadata": {},
   "outputs": [],
   "source": [
    "%%timeit\n",
    "librosa.effects.pitch_shift(y, sr=sr, n_steps=shift)"
   ]
  },
  {
   "cell_type": "code",
   "execution_count": null,
   "metadata": {},
   "outputs": [],
   "source": [
    "%%timeit\n",
    "board(y,sr, buffer_size=buffer_size)"
   ]
  },
  {
   "cell_type": "markdown",
   "metadata": {},
   "source": [
    "# ===== Time Stretching ====="
   ]
  },
  {
   "cell_type": "code",
   "execution_count": 46,
   "metadata": {},
   "outputs": [],
   "source": [
    "# Configure stretch factor\n",
    "stretch_factor = .8"
   ]
  },
  {
   "cell_type": "code",
   "execution_count": 47,
   "metadata": {},
   "outputs": [],
   "source": [
    "# # pystretch\n",
    "stretch.setTransposeSemitones(0)\n",
    "stretch.timeFactor = stretch_factor"
   ]
  },
  {
   "cell_type": "code",
   "execution_count": 48,
   "metadata": {},
   "outputs": [],
   "source": [
    "# Compute time stretch\n",
    "z_stretch = stretch.process(y)\n",
    "z_librosa = librosa.effects.time_stretch(y, rate=stretch_factor)\n",
    "z_pedalboard = pedalboard.time_stretch(input_audio=y, samplerate=sr, stretch_factor=stretch_factor)"
   ]
  },
  {
   "cell_type": "markdown",
   "metadata": {},
   "source": [
    "## Results: Time Stretching"
   ]
  },
  {
   "cell_type": "code",
   "execution_count": null,
   "metadata": {},
   "outputs": [],
   "source": [
    "print(\"pystretch\",z_stretch.shape)\n",
    "plotWaveform(z_stretch[0], sr, 'python-stretch')\n",
    "print(\"librosa\",z_librosa.shape)\n",
    "plotWaveform(z_librosa[0], sr, 'librosa')\n",
    "print(\"pedalboard\",z_pedalboard.shape)\n",
    "plotWaveform(z_pedalboard[0], sr, 'pedalboard')"
   ]
  },
  {
   "cell_type": "code",
   "execution_count": null,
   "metadata": {},
   "outputs": [],
   "source": [
    "ipd.Audio(z_stretch[0], rate=sr)"
   ]
  },
  {
   "cell_type": "code",
   "execution_count": null,
   "metadata": {},
   "outputs": [],
   "source": [
    "ipd.Audio(z_librosa[0], rate=sr)"
   ]
  },
  {
   "cell_type": "code",
   "execution_count": null,
   "metadata": {},
   "outputs": [],
   "source": [
    "ipd.Audio(z_pedalboard[0], rate=sr)"
   ]
  },
  {
   "cell_type": "markdown",
   "metadata": {},
   "source": [
    "## Time stretching: processing Time"
   ]
  },
  {
   "cell_type": "code",
   "execution_count": null,
   "metadata": {},
   "outputs": [],
   "source": [
    "%%timeit\n",
    "stretch.process(y)"
   ]
  },
  {
   "cell_type": "code",
   "execution_count": null,
   "metadata": {},
   "outputs": [],
   "source": [
    "%%timeit\n",
    "librosa.effects.time_stretch(y, rate=stretch_factor)"
   ]
  },
  {
   "cell_type": "code",
   "execution_count": null,
   "metadata": {},
   "outputs": [],
   "source": [
    "%%timeit\n",
    "pedalboard.time_stretch(y, sr, stretch_factor)"
   ]
  }
 ],
 "metadata": {
  "kernelspec": {
   "display_name": "nanobind",
   "language": "python",
   "name": "python3"
  },
  "language_info": {
   "codemirror_mode": {
    "name": "ipython",
    "version": 3
   },
   "file_extension": ".py",
   "mimetype": "text/x-python",
   "name": "python",
   "nbconvert_exporter": "python",
   "pygments_lexer": "ipython3",
   "version": "3.9.19"
  }
 },
 "nbformat": 4,
 "nbformat_minor": 2
}
